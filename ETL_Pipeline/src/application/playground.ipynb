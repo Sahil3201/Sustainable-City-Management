{
 "cells": [
  {
   "cell_type": "markdown",
   "metadata": {},
   "source": [
    "# Playground"
   ]
  },
  {
   "cell_type": "markdown",
   "metadata": {},
   "source": [
    "A safe space for experimentation."
   ]
  },
  {
   "cell_type": "code",
   "execution_count": 118,
   "metadata": {},
   "outputs": [
    {
     "name": "stdout",
     "output_type": "stream",
     "text": [
      "The autoreload extension is already loaded. To reload it, use:\n",
      "  %reload_ext autoreload\n"
     ]
    }
   ],
   "source": [
    "%load_ext autoreload\n",
    "%autoreload 2\n",
    "\n",
    "import os\n",
    "import schedule\n",
    "import requests\n",
    "import numpy as np\n",
    "import pandas as pd\n",
    "from datetime import datetime, timedelta\n",
    "from etl_db_manager import ETLDataBaseManager\n",
    "from etl_task import ETLTask, ETLTaskFunction\n",
    "from utility import base64encode_obj, base64decode_obj"
   ]
  },
  {
   "cell_type": "markdown",
   "metadata": {},
   "source": [
    "## Load Data"
   ]
  },
  {
   "cell_type": "code",
   "execution_count": 119,
   "metadata": {},
   "outputs": [],
   "source": [
    "def fetch_data_airnoise(sensor_id:str, time_start:datetime, time_end:datetime):\n",
    "    \"\"\" Fetches air/noise data from the API\n",
    "        at: https://data.smartdublin.ie/sonitus-api. \n",
    "        @param sensor_id: Serial number of the sensor.\n",
    "        @param time_start: Time range starting point.\n",
    "        @param time_end: Time range ending point.\n",
    "        @return: Data from API or [].\n",
    "    \"\"\"\n",
    "    data = []\n",
    "    try:\n",
    "        res = requests.post(f\"https://data.smartdublin.ie/sonitus-api/api/data\", json={ \n",
    "            'username': \"dublincityapi\",\n",
    "            'password': \"Xpa5vAQ9ki\",\n",
    "            'monitor': sensor_id,\n",
    "            'start': time_start.timestamp(),\n",
    "            'end': time_end.timestamp()\n",
    "        })\n",
    "        data = res.json()\n",
    "    except Exception as e:\n",
    "          raise print(f'Failed to fetch air noise data from source: {e}')\n",
    "    return data"
   ]
  },
  {
   "cell_type": "code",
   "execution_count": 120,
   "metadata": {},
   "outputs": [],
   "source": [
    "def load_data_noise():\n",
    "    \"\"\" Loads last 30 mins worth of noise data \n",
    "        from multiple noise sensors.\n",
    "    \"\"\"\n",
    "    dt_now = datetime.now() # Time now.\n",
    "    dt_past = dt_now - timedelta(minutes=30) # Time 30 mins ago.\n",
    "    # Fetch data from multiple sensors.\n",
    "    data_sensors = {\"01749\":[], \"01508\":[], \"10118\":[], \"01548\":[], \"10115\":[]}\n",
    "    for sensor in data_sensors.keys():\n",
    "        data_sensors[sensor] = fetch_data_airnoise(\n",
    "            sensor_id=sensor, \n",
    "            time_start=dt_past, \n",
    "            time_end=dt_now\n",
    "        )\n",
    "    return data_sensors"
   ]
  },
  {
   "cell_type": "code",
   "execution_count": 121,
   "metadata": {},
   "outputs": [],
   "source": [
    "def load_data_bikes():\n",
    "    \"\"\" Loads last 30 min snapshot of dublin bike stands. \"\"\"\n",
    "    data = []\n",
    "    try:\n",
    "        res = requests.get(f\"http://localhost:8000/bikes/snapshot/\")\n",
    "        data = res.json()['data']\n",
    "        print(res.json()['message'])\n",
    "    except Exception as e:\n",
    "          print(f'Failed to fetch dublin bikes data from source: {e}')\n",
    "          raise Exception(f'Failed to fetch dublin bikes data from source: {e}')\n",
    "    return data"
   ]
  },
  {
   "cell_type": "code",
   "execution_count": 83,
   "metadata": {},
   "outputs": [],
   "source": [
    "# # Load tasks.\n",
    "# data_noise_30min = load_data_noise()\n",
    "# data_bikes_30min = load_data_bikes()"
   ]
  },
  {
   "cell_type": "markdown",
   "metadata": {},
   "source": [
    "## Save Data"
   ]
  },
  {
   "cell_type": "code",
   "execution_count": 122,
   "metadata": {},
   "outputs": [],
   "source": [
    "def save_data_bikes(data):\n",
    "    \"\"\" Saves given data to csv file. \"\"\"\n",
    "    try:\n",
    "        res = requests.post(\n",
    "            url=\"http://localhost:8000/bikes/snapshot/\", \n",
    "            json={'snapshot':data}\n",
    "        )\n",
    "        print(res.json()['message'])\n",
    "    except Exception as e:\n",
    "        print(f'Failed to save bikes data. {e}')\n",
    "        raise Exception(f'Failed to save bikes data. {e}')"
   ]
  },
  {
   "cell_type": "code",
   "execution_count": 84,
   "metadata": {},
   "outputs": [],
   "source": [
    "# save_data_bikes(data=data_bikes_30min)"
   ]
  },
  {
   "cell_type": "markdown",
   "metadata": {},
   "source": [
    "## Schedule Load Save"
   ]
  },
  {
   "cell_type": "code",
   "execution_count": 123,
   "metadata": {},
   "outputs": [],
   "source": [
    "def load_data_bikes():\n",
    "    \"\"\" Loads last 30 min snapshot of dublin bike stands. \"\"\"\n",
    "    data = []\n",
    "    try:\n",
    "        res = requests.get(f\"http://localhost:8000/bikes/snapshot/\")\n",
    "        data = res.json()['data']\n",
    "        print(res.json()['message'])\n",
    "    except Exception as e:\n",
    "          data = []\n",
    "          print(f'Failed to fetch dublin bikes data from source: {e}')\n",
    "          raise Exception(f'Failed to fetch dublin bikes data from source: {e}')\n",
    "    return data\n",
    "\n",
    "def save_data_bikes(data):\n",
    "    \"\"\" \n",
    "    Saves given data to csv file. \n",
    "    @param data: Data to be saved.\n",
    "    \"\"\"\n",
    "    try:\n",
    "        res = requests.post(\n",
    "            url=\"http://localhost:8000/bikes/snapshot/\", \n",
    "            json={'snapshot':data}\n",
    "        )\n",
    "        print(res.json()['message'])\n",
    "    except Exception as e:\n",
    "        print(f'Failed to save bikes data. {e}')\n",
    "        raise Exception(f'Failed to save bikes data. {e}')"
   ]
  },
  {
   "cell_type": "code",
   "execution_count": 125,
   "metadata": {},
   "outputs": [
    {
     "name": "stdout",
     "output_type": "stream",
     "text": [
      "Success. Bike stations last 30 mins snapshot fetched from DCC API.\n",
      "Success. Saved snapshot of bike data for every station.\n"
     ]
    }
   ],
   "source": [
    "data = load_data_bikes()\n",
    "save_data_bikes(data)"
   ]
  },
  {
   "cell_type": "code",
   "execution_count": 167,
   "metadata": {},
   "outputs": [],
   "source": [
    "# Toy data load and save functions.\n",
    "def load_data(): \n",
    "    print(f'Loaded data.')\n",
    "    return [1, 2, 3]\n",
    "\n",
    "def save_data(data): \n",
    "    print(f'Saved data.')"
   ]
  },
  {
   "cell_type": "code",
   "execution_count": 126,
   "metadata": {},
   "outputs": [],
   "source": [
    "def make_post_request(url, data={}):\n",
    "    \"\"\"\n",
    "    Makes a post request.\n",
    "    @param url: URL to post to.\n",
    "    @data: Request body data.\n",
    "    @return: Response.\n",
    "    \"\"\"\n",
    "    response = requests.post(url, params=data)\n",
    "    return {'status': response.status_code, 'message': response.text}\n",
    "\n",
    "def make_get_request(url, data={}):\n",
    "    \"\"\"\n",
    "    Makes a post request.\n",
    "    @param url: URL to post to.\n",
    "    @data: Request body data.\n",
    "    @return: Response.\n",
    "    \"\"\"\n",
    "    response = requests.get(url, params=data)\n",
    "    return {'status': response.status_code, 'message': response.text}\n",
    "\n",
    "def make_delete_request(url, data={}):\n",
    "    \"\"\"\n",
    "    Makes a delete request.\n",
    "    @param url: URL to post to.\n",
    "    @data: Request body data.\n",
    "    @return: Response.\n",
    "    \"\"\"\n",
    "    response = requests.delete(url, params=data)\n",
    "    return {'status': response.status_code, 'message': response.text}\n",
    "\n",
    "def make_put_request(url, task_name, new_values):\n",
    "    \"\"\"\n",
    "    Makes a put request.\n",
    "    @param url: URL to post to.\n",
    "    @data: Request body data.\n",
    "    @return: Response.\n",
    "    \"\"\"\n",
    "    response = requests.put(\n",
    "        url=url, \n",
    "        params={\"task_name\": task_name}, \n",
    "        json=new_values\n",
    "    )\n",
    "    return {'status': response.status_code, 'message': response.json()}"
   ]
  },
  {
   "cell_type": "code",
   "execution_count": 168,
   "metadata": {},
   "outputs": [
    {
     "name": "stdout",
     "output_type": "stream",
     "text": [
      "Database './db_etl.db' available :) .\n"
     ]
    }
   ],
   "source": [
    "db_man = ETLDataBaseManager(db_name=\"db_etl\", db_path=\".\")"
   ]
  },
  {
   "cell_type": "code",
   "execution_count": 169,
   "metadata": {},
   "outputs": [],
   "source": [
    "db_man.query(q=\"SELECT * FROM etl_tasks WHERE status='scheduled'\", params=[])"
   ]
  },
  {
   "cell_type": "code",
   "execution_count": 170,
   "metadata": {},
   "outputs": [],
   "source": [
    "# Create a new task.\n",
    "task = ETLTask(\n",
    "    name='bikes',\n",
    "    fun_data_load=load_data_bikes,\n",
    "    fun_data_save=save_data_bikes,\n",
    "    repeat_time_unit='minutes',\n",
    "    repeat_interval=30\n",
    ")\n",
    "task_str = base64encode_obj(task)\n",
    "# make_post_request(url=\"http://127.0.0.1:8003/task\", data={\"task_str\": task_str})"
   ]
  },
  {
   "cell_type": "code",
   "execution_count": 186,
   "metadata": {},
   "outputs": [
    {
     "data": {
      "text/plain": [
       "{'status': 200,\n",
       " 'message': '{\"status\":200,\"message\":\"Success. Task created and scheduled test.\",\"data\":[]}'}"
      ]
     },
     "execution_count": 186,
     "metadata": {},
     "output_type": "execute_result"
    }
   ],
   "source": [
    "# Create a new task.\n",
    "task = ETLTask(\n",
    "    name='test',\n",
    "    fun_data_load=load_data,\n",
    "    fun_data_save=save_data,\n",
    "    repeat_time_unit='seconds',\n",
    "    repeat_interval=3\n",
    ")\n",
    "task_str = base64encode_obj(task)\n",
    "make_post_request(url=\"http://127.0.0.1:8003/task\", data={\"task_str\": task_str})"
   ]
  },
  {
   "cell_type": "code",
   "execution_count": 185,
   "metadata": {},
   "outputs": [
    {
     "data": {
      "text/plain": [
       "{'status': 200,\n",
       " 'message': '{\"status\":200,\"message\":\"Success. Deleted task test.\",\"data\":[]}'}"
      ]
     },
     "execution_count": 185,
     "metadata": {},
     "output_type": "execute_result"
    }
   ],
   "source": [
    "# Delete a task.\n",
    "make_delete_request(url=\"http://127.0.0.1:8003/task\", data={'task_name': 'test'})"
   ]
  },
  {
   "cell_type": "code",
   "execution_count": 178,
   "metadata": {},
   "outputs": [
    {
     "data": {
      "text/plain": [
       "{'status': 200,\n",
       " 'message': '{\"status\":200,\"message\":\"Scheduler started.\",\"data\":[]}'}"
      ]
     },
     "execution_count": 178,
     "metadata": {},
     "output_type": "execute_result"
    }
   ],
   "source": [
    "# Start scheduler.\n",
    "make_get_request(url=\"http://127.0.0.1:8003/start_scheduler\")"
   ]
  },
  {
   "cell_type": "code",
   "execution_count": 188,
   "metadata": {},
   "outputs": [
    {
     "data": {
      "text/plain": [
       "{'status': 200,\n",
       " 'message': '{\"status\":200,\"message\":\"Scheduler stopped.\",\"data\":[]}'}"
      ]
     },
     "execution_count": 188,
     "metadata": {},
     "output_type": "execute_result"
    }
   ],
   "source": [
    "# Stop scheduler.\n",
    "make_get_request(url=\"http://127.0.0.1:8003/stop_scheduler\")"
   ]
  },
  {
   "cell_type": "code",
   "execution_count": 202,
   "metadata": {},
   "outputs": [
    {
     "data": {
      "text/plain": [
       "{'status': 200,\n",
       " 'message': {'status': 200,\n",
       "  'message': \"Success. Status of task task1 updated with new values {'status': 'scheduled', 'num_runs': 0}.\",\n",
       "  'data': []}}"
      ]
     },
     "execution_count": 202,
     "metadata": {},
     "output_type": "execute_result"
    }
   ],
   "source": [
    "make_put_request(\n",
    "    url=\"http://127.0.0.1:8003/task\", \n",
    "    task_name=\"task1\",\n",
    "    new_values={\n",
    "        'status': 'scheduled',\n",
    "        \"num_runs\": 0\n",
    "    }\n",
    ")"
   ]
  },
  {
   "cell_type": "code",
   "execution_count": 187,
   "metadata": {},
   "outputs": [
    {
     "data": {
      "text/plain": [
       "{'status': 200,\n",
       " 'message': {'status': 200,\n",
       "  'message': 'Success. Task test has been stopped.',\n",
       "  'data': []}}"
      ]
     },
     "execution_count": 187,
     "metadata": {},
     "output_type": "execute_result"
    }
   ],
   "source": [
    "# Stop task\n",
    "make_put_request(\n",
    "    url=\"http://127.0.0.1:8003/task/stop\", \n",
    "    task_name=\"test\",\n",
    "    new_values={}\n",
    ")"
   ]
  },
  {
   "cell_type": "code",
   "execution_count": 167,
   "metadata": {},
   "outputs": [
    {
     "data": {
      "text/plain": [
       "{'status': 200,\n",
       " 'message': \"Success. Status of task task1 updated with new values {'status': 'running', 'time_run_last_start': '2024-03-16T00:19:29.088353', 'time_run_last_end': '2024-03-16T00:19:29.088353', 'num_runs': 200}.\",\n",
       " 'data': []}"
      ]
     },
     "execution_count": 167,
     "metadata": {},
     "output_type": "execute_result"
    }
   ],
   "source": [
    "requests.put(url=\"http://127.0.0.1:8003/task\", \n",
    "    params={\"task_name\": \"task1\"}, \n",
    "    json={\n",
    "        'status': 'running',\n",
    "        'time_run_last_start': datetime.now().isoformat(),\n",
    "        'time_run_last_end': datetime.now().isoformat(),\n",
    "        \"num_runs\": 200\n",
    "    }\n",
    ").json()"
   ]
  }
 ],
 "metadata": {
  "kernelspec": {
   "display_name": "django-postgresql",
   "language": "python",
   "name": "python3"
  },
  "language_info": {
   "codemirror_mode": {
    "name": "ipython",
    "version": 3
   },
   "file_extension": ".py",
   "mimetype": "text/x-python",
   "name": "python",
   "nbconvert_exporter": "python",
   "pygments_lexer": "ipython3",
   "version": "3.12.0"
  }
 },
 "nbformat": 4,
 "nbformat_minor": 2
}
