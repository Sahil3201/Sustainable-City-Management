{
 "cells": [
  {
   "cell_type": "markdown",
   "metadata": {},
   "source": [
    "# Playground"
   ]
  },
  {
   "cell_type": "markdown",
   "metadata": {},
   "source": [
    "A safe space for experimentation."
   ]
  },
  {
   "cell_type": "code",
   "execution_count": 78,
   "metadata": {},
   "outputs": [
    {
     "name": "stdout",
     "output_type": "stream",
     "text": [
      "The autoreload extension is already loaded. To reload it, use:\n",
      "  %reload_ext autoreload\n"
     ]
    }
   ],
   "source": [
    "%load_ext autoreload\n",
    "%autoreload 2\n",
    "\n",
    "import base64\n",
    "import dill\n",
    "import requests\n",
    "from datetime import datetime, timedelta\n",
    "from etl_db_manager import ETLDataBaseManager\n",
    "from etl_task import ETLTask, ETLTaskFunction\n",
    "from utility import base64encode_obj, base64decode_obj"
   ]
  },
  {
   "cell_type": "code",
   "execution_count": 21,
   "metadata": {},
   "outputs": [],
   "source": [
    "def load_data_airnoise(sensor_id:str):\n",
    "    \"\"\" Fetches air/noise data from the API. \n",
    "        @param sensor_id: Serial number of the sensor.\n",
    "        @return: Data from API or [].\n",
    "    \"\"\"\n",
    "    time_end = datetime.now()\n",
    "    time_start = time_end - timedelta(seconds=15*60)\n",
    "    data = []\n",
    "    try:\n",
    "        res = requests.post(f\"https://data.smartdublin.ie/sonitus-api/api/data\", json={ \n",
    "            'username': \"dublincityapi\",\n",
    "            'password': \"Xpa5vAQ9ki\",\n",
    "            'monitor': sensor_id,\n",
    "            'start': time_start.timestamp(),\n",
    "            'end': time_end.timestamp()\n",
    "        })\n",
    "        data = res.json()\n",
    "    except Exception as e:\n",
    "          raise print(f'Failed to load air noise data from source: {e}')\n",
    "    return data"
   ]
  },
  {
   "cell_type": "code",
   "execution_count": 121,
   "metadata": {},
   "outputs": [],
   "source": [
    "# Toy data load and save functions.\n",
    "def load_data(src): \n",
    "    print(f'Loaded data from {src}.')\n",
    "\n",
    "def save_data(dst): \n",
    "    print(f'Saved data to {dst}.')"
   ]
  },
  {
   "cell_type": "code",
   "execution_count": 171,
   "metadata": {},
   "outputs": [],
   "source": [
    "def make_post_request(url, data={}):\n",
    "    \"\"\"\n",
    "    Makes a post request.\n",
    "    @param url: URL to post to.\n",
    "    @data: Request body data.\n",
    "    @return: Response.\n",
    "    \"\"\"\n",
    "    response = requests.post(url, params=data)\n",
    "    return {'status': response.status_code, 'message': response.text}\n",
    "\n",
    "def make_get_request(url, data={}):\n",
    "    \"\"\"\n",
    "    Makes a post request.\n",
    "    @param url: URL to post to.\n",
    "    @data: Request body data.\n",
    "    @return: Response.\n",
    "    \"\"\"\n",
    "    response = requests.get(url, params=data)\n",
    "    return {'status': response.status_code, 'message': response.text}\n",
    "\n",
    "def make_delete_request(url, data={}):\n",
    "    \"\"\"\n",
    "    Makes a delete request.\n",
    "    @param url: URL to post to.\n",
    "    @data: Request body data.\n",
    "    @return: Response.\n",
    "    \"\"\"\n",
    "    response = requests.delete(url, params=data)\n",
    "    return {'status': response.status_code, 'message': response.text}\n",
    "\n",
    "def make_put_request(url, task_name, new_values):\n",
    "    \"\"\"\n",
    "    Makes a put request.\n",
    "    @param url: URL to post to.\n",
    "    @data: Request body data.\n",
    "    @return: Response.\n",
    "    \"\"\"\n",
    "    response = requests.put(\n",
    "        url=url, \n",
    "        params={\"task_name\": task_name}, \n",
    "        json=new_values\n",
    "    )\n",
    "    return {'status': response.status_code, 'message': response.json()}"
   ]
  },
  {
   "cell_type": "code",
   "execution_count": 214,
   "metadata": {},
   "outputs": [
    {
     "name": "stdout",
     "output_type": "stream",
     "text": [
      "Database './db_etl.db' available :) .\n"
     ]
    }
   ],
   "source": [
    "db_man = ETLDataBaseManager(db_name=\"db_etl\", db_path=\".\")"
   ]
  },
  {
   "cell_type": "code",
   "execution_count": 206,
   "metadata": {},
   "outputs": [],
   "source": [
    "db_man.query(q=\"SELECT * FROM etl_tasks WHERE status='scheduled'\", params=[])"
   ]
  },
  {
   "cell_type": "code",
   "execution_count": 213,
   "metadata": {},
   "outputs": [
    {
     "name": "stdout",
     "output_type": "stream",
     "text": [
      "[DEBUG] q = SELECT * FROM etl_tasks\n"
     ]
    },
    {
     "data": {
      "text/plain": [
       "[<etl_task.ETLTask at 0x2bea352fce0>]"
      ]
     },
     "execution_count": 213,
     "metadata": {},
     "output_type": "execute_result"
    }
   ],
   "source": [
    "db_man.load_tasks()"
   ]
  },
  {
   "cell_type": "code",
   "execution_count": 188,
   "metadata": {},
   "outputs": [],
   "source": [
    "delta_sec = timedelta(seconds=5)"
   ]
  },
  {
   "cell_type": "code",
   "execution_count": 216,
   "metadata": {},
   "outputs": [
    {
     "data": {
      "text/plain": [
       "{'status': 200,\n",
       " 'message': '{\"status\":200,\"message\":\"Success. Task created and scheduled task1.\",\"data\":[]}'}"
      ]
     },
     "execution_count": 216,
     "metadata": {},
     "output_type": "execute_result"
    }
   ],
   "source": [
    "# Create a new task.\n",
    "task = ETLTask(\n",
    "    name='task1',\n",
    "    fun_data_load=ETLTaskFunction(function=load_data, args=['test_api']),\n",
    "    fun_data_save=ETLTaskFunction(function=save_data, args=['test_db']),\n",
    "    repeat_time_unit='seconds',\n",
    "    repeat_interval=2\n",
    ")\n",
    "task_str = base64encode_obj(task)\n",
    "make_post_request(url=\"http://127.0.0.1:8003/task\", data={\"task_str\": task_str})"
   ]
  },
  {
   "cell_type": "code",
   "execution_count": 223,
   "metadata": {},
   "outputs": [
    {
     "data": {
      "text/plain": [
       "{'status': 200,\n",
       " 'message': '{\"status\":200,\"message\":\"Success. Task created and scheduled task2.\",\"data\":[]}'}"
      ]
     },
     "execution_count": 223,
     "metadata": {},
     "output_type": "execute_result"
    }
   ],
   "source": [
    "task = ETLTask(\n",
    "    name='task2',\n",
    "    fun_data_load=ETLTaskFunction(function=load_data, args=['task2']),\n",
    "    fun_data_save=ETLTaskFunction(function=save_data, args=['task2']),\n",
    "    repeat_time_unit='seconds',\n",
    "    repeat_interval=2\n",
    ")\n",
    "task_str = base64encode_obj(task)\n",
    "make_post_request(url=\"http://127.0.0.1:8003/task\", data={\"task_str\": task_str})"
   ]
  },
  {
   "cell_type": "code",
   "execution_count": 215,
   "metadata": {},
   "outputs": [
    {
     "data": {
      "text/plain": [
       "{'status': 200,\n",
       " 'message': '{\"status\":200,\"message\":\"Success. Deleted task task1.\",\"data\":[]}'}"
      ]
     },
     "execution_count": 215,
     "metadata": {},
     "output_type": "execute_result"
    }
   ],
   "source": [
    "# Delete a task.\n",
    "make_delete_request(url=\"http://127.0.0.1:8003/task\", data={'task_name': 'task1'})"
   ]
  },
  {
   "cell_type": "code",
   "execution_count": 224,
   "metadata": {},
   "outputs": [
    {
     "data": {
      "text/plain": [
       "{'status': 200,\n",
       " 'message': '{\"status\":200,\"message\":\"Scheduler started.\",\"data\":[]}'}"
      ]
     },
     "execution_count": 224,
     "metadata": {},
     "output_type": "execute_result"
    }
   ],
   "source": [
    "# Start scheduler.\n",
    "make_get_request(url=\"http://127.0.0.1:8003/start_scheduler\")"
   ]
  },
  {
   "cell_type": "code",
   "execution_count": 225,
   "metadata": {},
   "outputs": [
    {
     "data": {
      "text/plain": [
       "{'status': 200,\n",
       " 'message': '{\"status\":200,\"message\":\"Scheduler stopped.\",\"data\":[]}'}"
      ]
     },
     "execution_count": 225,
     "metadata": {},
     "output_type": "execute_result"
    }
   ],
   "source": [
    "# Stop scheduler.\n",
    "make_get_request(url=\"http://127.0.0.1:8003/stop_scheduler\")"
   ]
  },
  {
   "cell_type": "code",
   "execution_count": 202,
   "metadata": {},
   "outputs": [
    {
     "data": {
      "text/plain": [
       "{'status': 200,\n",
       " 'message': {'status': 200,\n",
       "  'message': \"Success. Status of task task1 updated with new values {'status': 'scheduled', 'num_runs': 0}.\",\n",
       "  'data': []}}"
      ]
     },
     "execution_count": 202,
     "metadata": {},
     "output_type": "execute_result"
    }
   ],
   "source": [
    "make_put_request(\n",
    "    url=\"http://127.0.0.1:8003/task\", \n",
    "    task_name=\"task1\",\n",
    "    new_values={\n",
    "        'status': 'scheduled',\n",
    "        \"num_runs\": 0\n",
    "    }\n",
    ")"
   ]
  },
  {
   "cell_type": "code",
   "execution_count": 167,
   "metadata": {},
   "outputs": [
    {
     "data": {
      "text/plain": [
       "{'status': 200,\n",
       " 'message': \"Success. Status of task task1 updated with new values {'status': 'running', 'time_run_last_start': '2024-03-16T00:19:29.088353', 'time_run_last_end': '2024-03-16T00:19:29.088353', 'num_runs': 200}.\",\n",
       " 'data': []}"
      ]
     },
     "execution_count": 167,
     "metadata": {},
     "output_type": "execute_result"
    }
   ],
   "source": [
    "requests.put(url=\"http://127.0.0.1:8003/task\", \n",
    "    params={\"task_name\": \"task1\"}, \n",
    "    json={\n",
    "        'status': 'running',\n",
    "        'time_run_last_start': datetime.now().isoformat(),\n",
    "        'time_run_last_end': datetime.now().isoformat(),\n",
    "        \"num_runs\": 200\n",
    "    }\n",
    ").json()"
   ]
  }
 ],
 "metadata": {
  "kernelspec": {
   "display_name": "django-postgresql",
   "language": "python",
   "name": "python3"
  },
  "language_info": {
   "codemirror_mode": {
    "name": "ipython",
    "version": 3
   },
   "file_extension": ".py",
   "mimetype": "text/x-python",
   "name": "python",
   "nbconvert_exporter": "python",
   "pygments_lexer": "ipython3",
   "version": "3.12.0"
  }
 },
 "nbformat": 4,
 "nbformat_minor": 2
}
