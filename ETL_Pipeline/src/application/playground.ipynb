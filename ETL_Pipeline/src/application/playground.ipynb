{
 "cells": [
  {
   "cell_type": "markdown",
   "metadata": {},
   "source": [
    "# Playground"
   ]
  },
  {
   "cell_type": "markdown",
   "metadata": {},
   "source": [
    "A safe space for experimentation."
   ]
  },
  {
   "cell_type": "code",
   "execution_count": 1,
   "metadata": {},
   "outputs": [
    {
     "name": "stderr",
     "output_type": "stream",
     "text": [
      "C:\\Users\\g_gna\\AppData\\Local\\Temp\\ipykernel_33204\\1704392461.py:8: DeprecationWarning: \n",
      "Pyarrow will become a required dependency of pandas in the next major release of pandas (pandas 3.0),\n",
      "(to allow more performant data types, such as the Arrow string type, and better interoperability with other libraries)\n",
      "but was not found to be installed on your system.\n",
      "If this would cause problems for you,\n",
      "please provide us feedback at https://github.com/pandas-dev/pandas/issues/54466\n",
      "        \n",
      "  import pandas as pd\n"
     ]
    }
   ],
   "source": [
    "%load_ext autoreload\n",
    "%autoreload 2\n",
    "\n",
    "import os\n",
    "import schedule\n",
    "import requests\n",
    "import numpy as np\n",
    "import pandas as pd\n",
    "from datetime import datetime, timedelta\n",
    "from etl_db_manager import ETLDataBaseManager\n",
    "from etl_task import ETLTask, ETLTaskFunction\n",
    "from utility import base64encode_obj, base64decode_obj"
   ]
  },
  {
   "cell_type": "markdown",
   "metadata": {},
   "source": [
    "## Load Data"
   ]
  },
  {
   "cell_type": "code",
   "execution_count": 2,
   "metadata": {},
   "outputs": [],
   "source": [
    "def fetch_data_airnoise(sensor_id:str, time_start:datetime, time_end:datetime):\n",
    "    \"\"\" Fetches air/noise data from the API\n",
    "        at: https://data.smartdublin.ie/sonitus-api. \n",
    "        @param sensor_id: Serial number of the sensor.\n",
    "        @param time_start: Time range starting point.\n",
    "        @param time_end: Time range ending point.\n",
    "        @return: Data from API or [].\n",
    "    \"\"\"\n",
    "    data = []\n",
    "    try:\n",
    "        res = requests.post(f\"https://data.smartdublin.ie/sonitus-api/api/data\", json={ \n",
    "            'username': \"dublincityapi\",\n",
    "            'password': \"Xpa5vAQ9ki\",\n",
    "            'monitor': sensor_id,\n",
    "            'start': time_start.timestamp(),\n",
    "            'end': time_end.timestamp()\n",
    "        })\n",
    "        print(\"[DEBUG] res =\", res)\n",
    "        data = res.json()\n",
    "    except Exception as e:\n",
    "          raise print(f'Failed to fetch air noise data from source: {e}')\n",
    "    return data"
   ]
  },
  {
   "cell_type": "code",
   "execution_count": 3,
   "metadata": {},
   "outputs": [],
   "source": [
    "def load_data_noise():\n",
    "    \"\"\" Loads last 30 mins worth of noise data \n",
    "        from multiple noise sensors.\n",
    "    \"\"\"\n",
    "    dt_now = datetime.now() # Time now.\n",
    "    dt_past = dt_now - timedelta(minutes=30) # Time 30 mins ago.\n",
    "    # Fetch data from multiple sensors.\n",
    "    data_sensors = {\"01749\":[], \"01508\":[], \"10118\":[], \"01548\":[], \"10115\":[]}\n",
    "    for sensor in data_sensors.keys():\n",
    "        data_sensors[sensor] = fetch_data_airnoise(\n",
    "            sensor_id=sensor, \n",
    "            time_start=dt_past, \n",
    "            time_end=dt_now\n",
    "        )\n",
    "    return data_sensors"
   ]
  },
  {
   "cell_type": "markdown",
   "metadata": {},
   "source": [
    "## Schedule Load Save"
   ]
  },
  {
   "cell_type": "code",
   "execution_count": 33,
   "metadata": {},
   "outputs": [],
   "source": [
    "def load_data_bikes():\n",
    "    \"\"\" Loads last 30 min snapshot of dublin bike stands. \"\"\"\n",
    "    import requests\n",
    "    data = []\n",
    "    try:\n",
    "        res = requests.get(f\"https://data.smartdublin.ie/dublinbikes-api/last_snapshot\")  \n",
    "        data = res.json()\n",
    "    except Exception as e:\n",
    "          data = []\n",
    "          print(f'Failed to fetch dublin bikes data from source: {e}')\n",
    "          raise Exception(f'Failed to fetch dublin bikes data from source: {e}')\n",
    "    return data\n",
    "\n",
    "def transform_data_bikes(data):\n",
    "    \"\"\"\n",
    "    Transforms bikes data to be in a desireable format for saving.\n",
    "    @param data: Data to be transformed.\n",
    "    \"\"\"\n",
    "    import pytz\n",
    "    import pandas as pd\n",
    "    from datetime import datetime\n",
    "\n",
    "    df = pd.DataFrame(data)\n",
    "    df['usage_percent'] = df['available_bikes']/df['bike_stands']\n",
    "    df['usage_percent'] = df['usage_percent'].round(2)\n",
    "    df['status'] = df['status'].str.lower()\n",
    "    df = df[[\n",
    "        'station_id', 'bike_stands', \n",
    "        'available_bikes', 'usage_percent', \n",
    "        'last_update', 'status'\n",
    "    ]]\n",
    "    print(\"Bike data transformed. Usage % computed and last update made lowercase.\")\n",
    "\n",
    "    return df.to_dict(orient='records')\n",
    "\n",
    "def save_data_bikes(data):\n",
    "    \"\"\" \n",
    "    Saves given data to csv file. \n",
    "    @param data: Data to be saved.\n",
    "    \"\"\"\n",
    "    import requests\n",
    "    try:\n",
    "        res = requests.post(\n",
    "            url=\"http://localhost:8000/bikes/snapshot/\", \n",
    "            json={'snapshot':data}\n",
    "        )\n",
    "        print(res.json()['message'])\n",
    "    except Exception as e:\n",
    "        print(f'Failed to save bikes data. {e}')\n",
    "        raise Exception(f'Failed to save bikes data. {e}')"
   ]
  },
  {
   "cell_type": "code",
   "execution_count": 32,
   "metadata": {},
   "outputs": [],
   "source": [
    "# data = load_data_bikes()\n",
    "# data = transform_data_bikes(data)\n",
    "# save_data_bikes(data)"
   ]
  },
  {
   "cell_type": "code",
   "execution_count": 15,
   "metadata": {},
   "outputs": [],
   "source": [
    "# Toy data load and save functions.\n",
    "def load_data(): \n",
    "    print(f'Loaded data.')\n",
    "    return [1, 2, 3]\n",
    "\n",
    "def transform_data(data):\n",
    "    data_transformed = data * 10 # Deliberate error to showcase logging.\n",
    "    print(f'Transformed data {data} into {data_transformed}.')\n",
    "    return data_transformed\n",
    "\n",
    "def save_data(data): \n",
    "    print(f'Saved data {data}.')"
   ]
  },
  {
   "cell_type": "code",
   "execution_count": 6,
   "metadata": {},
   "outputs": [],
   "source": [
    "def make_post_request(url, data={}):\n",
    "    \"\"\"\n",
    "    Makes a post request.\n",
    "    @param url: URL to post to.\n",
    "    @data: Request body data.\n",
    "    @return: Response.\n",
    "    \"\"\"\n",
    "    response = requests.post(url, params=data)\n",
    "    return {'status': response.status_code, 'message': response.json()['message']}\n",
    "\n",
    "def make_get_request(url, data={}):\n",
    "    \"\"\"\n",
    "    Makes a post request.\n",
    "    @param url: URL to post to.\n",
    "    @data: Request body data.\n",
    "    @return: Response.\n",
    "    \"\"\"\n",
    "    response = requests.get(url, params=data)\n",
    "    return {'status': response.status_code, 'message': response.text}\n",
    "\n",
    "def make_delete_request(url, data={}):\n",
    "    \"\"\"\n",
    "    Makes a delete request.\n",
    "    @param url: URL to post to.\n",
    "    @data: Request body data.\n",
    "    @return: Response.\n",
    "    \"\"\"\n",
    "    response = requests.delete(url, params=data)\n",
    "    return {'status': response.status_code, 'message': response.text}\n",
    "\n",
    "def make_put_request(url, task_name, new_values):\n",
    "    \"\"\"\n",
    "    Makes a put request.\n",
    "    @param url: URL to post to.\n",
    "    @data: Request body data.\n",
    "    @return: Response.\n",
    "    \"\"\"\n",
    "    response = requests.put(\n",
    "        url=url, \n",
    "        params={\"task_name\": task_name}, \n",
    "        json=new_values\n",
    "    )\n",
    "    return {'status': response.status_code, 'message': response.json()}"
   ]
  },
  {
   "cell_type": "code",
   "execution_count": 34,
   "metadata": {},
   "outputs": [],
   "source": [
    "# data = load_data_bikes()\n",
    "# data = load_data_bikes(data)\n",
    "# save_data_bikes(data)"
   ]
  },
  {
   "cell_type": "code",
   "execution_count": 63,
   "metadata": {},
   "outputs": [],
   "source": [
    "# # Create data base manager.\n",
    "# db_man = ETLDataBaseManager(db_name=\"db_etl\", db_path=\".\")"
   ]
  },
  {
   "cell_type": "code",
   "execution_count": 35,
   "metadata": {},
   "outputs": [
    {
     "data": {
      "text/plain": [
       "{'status': 200, 'message': 'Success. Task created and scheduled bikes.'}"
      ]
     },
     "execution_count": 35,
     "metadata": {},
     "output_type": "execute_result"
    }
   ],
   "source": [
    "# Create a new task.\n",
    "task = ETLTask(\n",
    "    name='bikes',\n",
    "    fun_data_load=load_data_bikes,\n",
    "    fun_data_transform=transform_data_bikes,\n",
    "    fun_data_save=save_data_bikes,\n",
    "    repeat_time_unit='seconds',\n",
    "    repeat_interval=10\n",
    ")\n",
    "task_str = base64encode_obj(task)\n",
    "make_post_request(url=\"http://127.0.0.1:8003/task\", data={\"task_str\": task_str})"
   ]
  },
  {
   "cell_type": "code",
   "execution_count": 16,
   "metadata": {},
   "outputs": [
    {
     "data": {
      "text/plain": [
       "{'status': 200, 'message': 'Success. Task created and scheduled test.'}"
      ]
     },
     "execution_count": 16,
     "metadata": {},
     "output_type": "execute_result"
    }
   ],
   "source": [
    "# Create a new task.\n",
    "task = ETLTask(\n",
    "    name='test',\n",
    "    fun_data_load=load_data,\n",
    "    fun_data_transform=transform_data,\n",
    "    fun_data_save=save_data,\n",
    "    repeat_time_unit='seconds',\n",
    "    repeat_interval=3\n",
    ")\n",
    "task_str = base64encode_obj(task)\n",
    "make_post_request(url=\"http://127.0.0.1:8003/task\", data={\"task_str\": task_str})"
   ]
  },
  {
   "cell_type": "code",
   "execution_count": 11,
   "metadata": {},
   "outputs": [
    {
     "data": {
      "text/plain": [
       "'gASV6QMAAAAAAACMCGV0bF90YXNrlIwHRVRMVGFza5STlCmBlH2UKIwEbmFtZZSMBHRlc3SUjBByZXBlYXRfdGltZV91bml0lIwHc2Vjb25kc5SMD3JlcGVhdF9pbnRlcnZhbJRLA4wIbnVtX3J1bnOUSwCME3RpbWVfcnVuX2xhc3Rfc3RhcnSUTowRdGltZV9ydW5fbGFzdF9lbmSUTowGc3RhdHVzlIwJc2NoZWR1bGVklIwNZnVuX2RhdGFfbG9hZJSMCmRpbGwuX2RpbGyUjBBfY3JlYXRlX2Z1bmN0aW9ulJOUKGgQjAxfY3JlYXRlX2NvZGWUk5QoQwQCARYBlEsASwBLAEsASwNLA0MglwB0AQAAAAAAAAAAZAGrAQAAAAAAAAEAZwBkAqIBUwCUTowMTG9hZGVkIGRhdGEulEsBSwJLA4eUh5SMBXByaW50lIWUKYw/QzpcVXNlcnNcZ19nbmFcQXBwRGF0YVxMb2NhbFxUZW1wXGlweWtlcm5lbF8zMzIwNFw0MTI2MTM2OTg1LnB5lIwJbG9hZF9kYXRhlGgdSwJDEIAA3AQJiEzUBBraCxTQBBSUQwCUKSl0lFKUY19fYnVpbHRpbl9fCl9fbWFpbl9fCmgdTk50lFKUfZR9lIwPX19hbm5vdGF0aW9uc19flH2Uc4aUYowNZnVuX2RhdGFfc2F2ZZRoEihoFChDAgIBlEsBSwBLAEsBSwVLA0MilwB0AQAAAAAAAAAAZAF8AJsAZAKdA6sBAAAAAAAAAQB5AJROjAtTYXZlZCBkYXRhIJSMAS6Uh5RoGoWUjARkYXRhlIWUaByMCXNhdmVfZGF0YZRoMksLQxOAANwECYhLmASQdphR0Aof1QQglGgfKSl0lFKUY19fYnVpbHRpbl9fCl9fbWFpbl9fCmgyTk50lFKUfZR9lGgmfZRzhpRijBJmdW5fZGF0YV90cmFuc2Zvcm2UaBIoaBQoQwYCAQoBJAGUSwFLAEsASwJLB0sDQzSXAHwAZAF6AAAAfQF0AQAAAAAAAAAAZAJ8AJsAZAN8AZsAZASdBasBAAAAAAAAAQB8AVMAlChOSwqMEVRyYW5zZm9ybWVkIGRhdGEglIwGIGludG8glGgtdJRoGoWUaDCMEGRhdGFfdHJhbnNmb3JtZWSUhpRoHIwOdHJhbnNmb3JtX2RhdGGUaEVLBkMsgADYFxuYYpF50AQU3AQJ0AwdmGSYVqA20Co60Ck7uDHQCj3UBD7YCxvQBBuUaB8pKXSUUpRjX19idWlsdGluX18KX19tYWluX18KaEVOTnSUUpR9lH2UaCZ9lHOGlGKMBmNvbmZpZ5R9lHViLg=='"
      ]
     },
     "execution_count": 11,
     "metadata": {},
     "output_type": "execute_result"
    }
   ],
   "source": [
    "task_str"
   ]
  },
  {
   "cell_type": "code",
   "execution_count": 66,
   "metadata": {},
   "outputs": [
    {
     "data": {
      "text/plain": [
       "{'status': 200,\n",
       " 'message': '{\"status\":200,\"message\":\"Success. Deleted task bikes.\",\"data\":[]}'}"
      ]
     },
     "execution_count": 66,
     "metadata": {},
     "output_type": "execute_result"
    }
   ],
   "source": [
    "# Delete a task.\n",
    "make_delete_request(url=\"http://127.0.0.1:8003/task\", data={'task_name': 'bikes'})"
   ]
  },
  {
   "cell_type": "code",
   "execution_count": 178,
   "metadata": {},
   "outputs": [
    {
     "data": {
      "text/plain": [
       "{'status': 200,\n",
       " 'message': '{\"status\":200,\"message\":\"Scheduler started.\",\"data\":[]}'}"
      ]
     },
     "execution_count": 178,
     "metadata": {},
     "output_type": "execute_result"
    }
   ],
   "source": [
    "# Start scheduler.\n",
    "make_get_request(url=\"http://127.0.0.1:8003/start_scheduler\")"
   ]
  },
  {
   "cell_type": "code",
   "execution_count": 211,
   "metadata": {},
   "outputs": [
    {
     "data": {
      "text/plain": [
       "{'status': 200,\n",
       " 'message': '{\"status\":200,\"message\":\"Scheduler stopped.\",\"data\":[]}'}"
      ]
     },
     "execution_count": 211,
     "metadata": {},
     "output_type": "execute_result"
    }
   ],
   "source": [
    "# Stop scheduler.\n",
    "make_get_request(url=\"http://127.0.0.1:8003/stop_scheduler\")"
   ]
  },
  {
   "cell_type": "code",
   "execution_count": 202,
   "metadata": {},
   "outputs": [
    {
     "data": {
      "text/plain": [
       "{'status': 200,\n",
       " 'message': {'status': 200,\n",
       "  'message': \"Success. Status of task task1 updated with new values {'status': 'scheduled', 'num_runs': 0}.\",\n",
       "  'data': []}}"
      ]
     },
     "execution_count": 202,
     "metadata": {},
     "output_type": "execute_result"
    }
   ],
   "source": [
    "make_put_request(\n",
    "    url=\"http://127.0.0.1:8003/task\", \n",
    "    task_name=\"task1\",\n",
    "    new_values={\n",
    "        'status': 'scheduled',\n",
    "        \"num_runs\": 0\n",
    "    }\n",
    ")"
   ]
  },
  {
   "cell_type": "code",
   "execution_count": 187,
   "metadata": {},
   "outputs": [
    {
     "data": {
      "text/plain": [
       "{'status': 200,\n",
       " 'message': {'status': 200,\n",
       "  'message': 'Success. Task test has been stopped.',\n",
       "  'data': []}}"
      ]
     },
     "execution_count": 187,
     "metadata": {},
     "output_type": "execute_result"
    }
   ],
   "source": [
    "# Stop task\n",
    "make_put_request(\n",
    "    url=\"http://127.0.0.1:8003/task/stop\", \n",
    "    task_name=\"test\",\n",
    "    new_values={}\n",
    ")"
   ]
  },
  {
   "cell_type": "code",
   "execution_count": 6,
   "metadata": {},
   "outputs": [
    {
     "name": "stdout",
     "output_type": "stream",
     "text": [
      "{'status': 200, 'message': \"Imported module 'requests'. \"}\n"
     ]
    }
   ],
   "source": [
    "# Request module import.\n",
    "response = requests.put(\n",
    "    url=\"http://127.0.0.1:8003/import\", \n",
    "    json=['requests']\n",
    ")\n",
    "print(response.json())"
   ]
  }
 ],
 "metadata": {
  "kernelspec": {
   "display_name": "django-postgresql",
   "language": "python",
   "name": "python3"
  },
  "language_info": {
   "codemirror_mode": {
    "name": "ipython",
    "version": 3
   },
   "file_extension": ".py",
   "mimetype": "text/x-python",
   "name": "python",
   "nbconvert_exporter": "python",
   "pygments_lexer": "ipython3",
   "version": "3.12.0"
  }
 },
 "nbformat": 4,
 "nbformat_minor": 2
}
